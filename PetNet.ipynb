{
 "cells": [
  {
   "cell_type": "markdown",
   "metadata": {},
   "source": [
    "# Petri Net Traversal"
   ]
  },
  {
   "cell_type": "code",
   "execution_count": 1,
   "metadata": {
    "scrolled": true
   },
   "outputs": [
    {
     "name": "stdout",
     "output_type": "stream",
     "text": [
      "Marcado actual:  [2 0 0 0 0]\n",
      "Transición 0 habilitada.\n",
      "Selección: 0\n",
      "Marcado actual:  [0 1 1 0 0]\n",
      "Transición 1 habilitada.\n",
      "Transición 2 habilitada.\n",
      "Selección: 1\n",
      "Marcado actual:  [0 0 1 1 0]\n",
      "Transición 2 habilitada.\n",
      "Transición 3 habilitada.\n",
      "Selección: 3\n",
      "Marcado actual:  [1 0 1 0 0]\n",
      "Transición 2 habilitada.\n",
      "Selección: 2\n",
      "Marcado actual:  [1 0 0 0 1]\n",
      "Transición 4 habilitada.\n",
      "Selección: 4\n",
      "Marcado actual:  [2 0 0 0 0]\n",
      "Transición 0 habilitada.\n",
      "Selección: exit\n"
     ]
    }
   ],
   "source": [
    "import numpy as np\n",
    "class MatrixPetriNet:\n",
    "    __slots__ = (\"_mo\",\"_pre\",\"_post\",\"_mk\",\"_last_mk\",\"_enabled\")\n",
    "    def __init__(self,\n",
    "        M_o = np.array([\n",
    "                        [2],\n",
    "                        [0],\n",
    "                        [0],\n",
    "                        [0],\n",
    "                        [0]\n",
    "                        ]),\n",
    "        Pre = np.array([\n",
    "                        [2,0,0,0,0],\n",
    "                        [0,1,0,0,0],\n",
    "                        [0,0,1,0,0],\n",
    "                        [0,0,0,1,0],\n",
    "                        [0,0,0,0,1]\n",
    "                        ]),\n",
    "        Post = np.array([\n",
    "                        [0,0,0,1,1],\n",
    "                        [1,0,0,0,0],\n",
    "                        [1,0,0,0,0],\n",
    "                        [0,1,0,0,0],\n",
    "                        [0,0,1,0,0]\n",
    "                        ])):\n",
    "        self._mo = self._mk = M_o\n",
    "        self._pre, self._post = Pre, Post\n",
    "    def M_o(self):\n",
    "        return self._mo.transpose()[0]\n",
    "    def Pre(self):\n",
    "        return self._pre.transpose()\n",
    "    def Post(self):\n",
    "        return self._post.transpose()\n",
    "    def M_k(self):\n",
    "        return self._mk.transpose()[0]\n",
    "    def Firing(self):\n",
    "        while True:\n",
    "            IsBlocked = True\n",
    "            print(\"\\nMarcado actual: \", self.M_k())\n",
    "            for t_i in self.Enabled():\n",
    "                IsBlocked = False\n",
    "                print(\"Transición \" + str(t_i) + \" habilitada.\")\n",
    "            if IsBlocked:\n",
    "                print(\"Red bloqueada...\")\n",
    "                break\n",
    "            To_Fire = input(\"Selección: \")\n",
    "            if To_Fire == \"exit\":\n",
    "                break\n",
    "            self._mk.transpose()[0] = self.M_k() - self.Pre()[int(To_Fire)] + self.Post()[int(To_Fire)]\n",
    "    def Enabled(self):\n",
    "            return (i for i,pre in enumerate(self.Pre()) if all(self.M_k() >= pre))\n",
    "PetNet = MatrixPetriNet().Firing()"
   ]
  }
 ],
 "metadata": {
  "kernelspec": {
   "display_name": "Python 3",
   "language": "python",
   "name": "python3"
  },
  "language_info": {
   "codemirror_mode": {
    "name": "ipython",
    "version": 3
   },
   "file_extension": ".py",
   "mimetype": "text/x-python",
   "name": "python",
   "nbconvert_exporter": "python",
   "pygments_lexer": "ipython3",
   "version": "3.6.10"
  }
 },
 "nbformat": 4,
 "nbformat_minor": 2
}
